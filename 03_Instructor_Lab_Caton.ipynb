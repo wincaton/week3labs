{
 "cells": [
  {
   "cell_type": "markdown",
   "metadata": {},
   "source": [
    "UM MSBA - BGEN632 - Winston Caton\n",
    "\n",
    "## Week 3 Instructor-Led Lab: Temperature Conversion\n",
    "\n",
    "This code will convert temperatures for values provided in Celsius, Fahrenheit and Kelvin\n",
    "\n",
    "---\n",
    "\n",
    "## Welcome to my Temperature Conversion"
   ]
  },
  {
   "cell_type": "code",
   "execution_count": 28,
   "metadata": {},
   "outputs": [],
   "source": [
    "celsius = 0.0\n",
    "fahrenheit = 0.0\n",
    "kelvin = 0.0"
   ]
  },
  {
   "cell_type": "code",
   "execution_count": 29,
   "metadata": {},
   "outputs": [],
   "source": [
    "text = float(input(\"Please provide a value, in Celsius, to convert:\\n\"))\n",
    "celsius = text  "
   ]
  },
  {
   "cell_type": "markdown",
   "metadata": {},
   "source": [
    "## Convert Celsius to Fahrenheit"
   ]
  },
  {
   "cell_type": "code",
   "execution_count": 30,
   "metadata": {},
   "outputs": [],
   "source": [
    "fahrenheit = (9 / 5) * celsius + 32"
   ]
  },
  {
   "cell_type": "markdown",
   "metadata": {},
   "source": [
    "## Convert Celsius to Kelvin"
   ]
  },
  {
   "cell_type": "code",
   "execution_count": 31,
   "metadata": {},
   "outputs": [],
   "source": [
    "kelvin = celsius + 273.15"
   ]
  },
  {
   "cell_type": "markdown",
   "metadata": {},
   "source": [
    "## Display Conversion Results"
   ]
  },
  {
   "cell_type": "code",
   "execution_count": 32,
   "metadata": {},
   "outputs": [
    {
     "name": "stdout",
     "output_type": "stream",
     "text": [
      "55.0 degrees Celsius is 131.0 degrees Fahrenheit which is 328.15 degrees Kelvin\n"
     ]
    }
   ],
   "source": [
    "print(f\"{celsius} degrees Celsius is {fahrenheit} degrees Fahrenheit which is {kelvin} degrees Kelvin\")"
   ]
  },
  {
   "cell_type": "markdown",
   "metadata": {},
   "source": [
    "## Create Additional Variables\n",
    "\n"
   ]
  },
  {
   "cell_type": "code",
   "execution_count": 33,
   "metadata": {},
   "outputs": [
    {
     "name": "stdout",
     "output_type": "stream",
     "text": [
      "55.0 degrees Celsius is 131.0 degrees Fahrenheit which is 328.15 degrees Kelvin\n"
     ]
    }
   ],
   "source": [
    "celsius_two = 0.0\n",
    "fahrenheit_two = 0.0\n",
    "kelvin_two = 0.0\n",
    "\n",
    "celsius_two = float(input(\"Please provide a second value, in Celsius, to convert:\\n\"))\n",
    "\n",
    "fahrenheit_two = (celsius_two * (9/5)) + 32\n",
    "kelvin_two = celsius_two +273.15\n",
    "\n",
    "print(f\"{celsius_two} degrees Celsius is {fahrenheit_two} degrees Fahrenheit which is {kelvin_two} degrees Kelvin\")"
   ]
  },
  {
   "cell_type": "markdown",
   "metadata": {},
   "source": [
    "## Comparing Temperatures"
   ]
  },
  {
   "cell_type": "code",
   "execution_count": 34,
   "metadata": {},
   "outputs": [
    {
     "name": "stdout",
     "output_type": "stream",
     "text": [
      "The original Celsius Value of  55.0  is equal to new value of  55.0\n",
      "The original Fahrenheit Value of  131.0  is greater than or equal to the new value of  131.0\n",
      "The original Kelvin Value of  328.15  is equal to the new value of  328.15\n"
     ]
    }
   ],
   "source": [
    "#Celsius\n",
    "\n",
    "if celsius > celsius_two:\n",
    "    print(\"The original Celsius Value of \",celsius,\" is greater than the new value of \", celsius_two)\n",
    "elif celsius == celsius_two: \n",
    "    print(\"The original Celsius Value of \",celsius,\" is equal to new value of \", celsius_two)\n",
    "else:\n",
    "    print(\"The orignal Celsius value of \",celsius,\" is less than the new value of \",celsius_two)\n",
    "\n",
    "if fahrenheit >= fahrenheit_two:\n",
    "    print(\"The original Fahrenheit Value of \",fahrenheit,\" is greater than or equal to the new value of \", fahrenheit_two)\n",
    "else: \n",
    "    print(\"The original Fahrenheit Value of \",fahrenheit,\" is less than the new value of \", fahrenheit_two)\n",
    "\n",
    "if kelvin == kelvin_two:\n",
    "    print(\"The original Kelvin Value of \",kelvin,\" is equal to the new value of \", kelvin_two)\n",
    "else: \n",
    "    print(\"The original Kelvin Value of \",kelvin,\" is not equal to the new value of \", kelvin_two)"
   ]
  },
  {
   "cell_type": "markdown",
   "metadata": {},
   "source": [
    "## Logical Operators"
   ]
  },
  {
   "cell_type": "code",
   "execution_count": 37,
   "metadata": {},
   "outputs": [
    {
     "name": "stdout",
     "output_type": "stream",
     "text": [
      "celsius == celsius_two and fahrenheit < fahrenheit_two\n",
      "Python Lies\n",
      "celsius == celsiusTwo or kelvin != kelvinTwo\n",
      "Python Speaks the Truth\n"
     ]
    }
   ],
   "source": [
    "print(\"celsius == celsius_two and fahrenheit < fahrenheit_two\")\n",
    "if celsius == celsius_two and fahrenheit < fahrenheit_two:\n",
    "    print(\"Python Speaks the Truth\")\n",
    "else:\n",
    "    print(\"Python Lies\")\n",
    "\n",
    "print(\"celsius == celsiusTwo or kelvin != kelvinTwo\")\n",
    "if celsius == celsius_two or kelvin != kelvin_two:\n",
    "    print(\"Python Speaks the Truth\")\n",
    "else:\n",
    "    print(\"Python Lies\")"
   ]
  }
 ],
 "metadata": {
  "kernelspec": {
   "display_name": "Python 3",
   "language": "python",
   "name": "python3"
  },
  "language_info": {
   "codemirror_mode": {
    "name": "ipython",
    "version": 3
   },
   "file_extension": ".py",
   "mimetype": "text/x-python",
   "name": "python",
   "nbconvert_exporter": "python",
   "pygments_lexer": "ipython3",
   "version": "3.12.2"
  }
 },
 "nbformat": 4,
 "nbformat_minor": 2
}
